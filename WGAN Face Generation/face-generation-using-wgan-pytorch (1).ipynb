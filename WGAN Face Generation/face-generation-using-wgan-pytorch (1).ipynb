{
 "cells": [
  {
   "cell_type": "code",
   "execution_count": 2,
   "metadata": {
    "_cell_guid": "b1076dfc-b9ad-4769-8c92-a6c4dae69d19",
    "_uuid": "8f2839f25d086af736a60e9eeb907d3b93b6e0e5",
    "execution": {
     "iopub.execute_input": "2022-01-02T18:09:23.324869Z",
     "iopub.status.busy": "2022-01-02T18:09:23.324578Z",
     "iopub.status.idle": "2022-01-02T18:09:23.330888Z",
     "shell.execute_reply": "2022-01-02T18:09:23.329974Z",
     "shell.execute_reply.started": "2022-01-02T18:09:23.324841Z"
    }
   },
   "outputs": [],
   "source": [
    "# This Python 3 environment comes with many helpful analytics libraries installed\n",
    "# It is defined by the kaggle/python Docker image: https://github.com/kaggle/docker-python\n",
    "# For example, here's several helpful packages to load\n",
    "\n",
    "import numpy as np # linear algebra\n",
    "import pandas as pd # data processing, CSV file I/O (e.g. pd.read_csv)\n",
    "\n",
    "# Input data files are available in the read-only \"../input/\" directory\n",
    "# For example, running this (by clicking run or pressing Shift+Enter) will list all files under the input directory\n",
    "\n",
    "import os\n",
    "for dirname, _, filenames in os.walk('/kaggle/input'):\n",
    "    for filename in filenames:\n",
    "        #print(os.path.join(dirname, filename))\n",
    "\n",
    "# You can write up to 20GB to the current directory (/kaggle/working/) that gets preserved as output when you create a version using \"Save & Run All\" \n",
    "# You can also write temporary files to /kaggle/temp/, but they won't be saved outside of the current session"
   ]
  },
  {
   "cell_type": "code",
   "execution_count": 3,
   "metadata": {
    "execution": {
     "iopub.execute_input": "2022-01-02T18:09:27.594288Z",
     "iopub.status.busy": "2022-01-02T18:09:27.593792Z",
     "iopub.status.idle": "2022-01-02T18:09:27.598212Z",
     "shell.execute_reply": "2022-01-02T18:09:27.597488Z",
     "shell.execute_reply.started": "2022-01-02T18:09:27.594229Z"
    }
   },
   "outputs": [],
   "source": [
    "File_location = '../input/celeba-dataset'"
   ]
  },
  {
   "cell_type": "code",
   "execution_count": 4,
   "metadata": {
    "execution": {
     "iopub.execute_input": "2022-01-02T18:09:30.848649Z",
     "iopub.status.busy": "2022-01-02T18:09:30.848043Z",
     "iopub.status.idle": "2022-01-02T18:09:32.798001Z",
     "shell.execute_reply": "2022-01-02T18:09:32.797296Z",
     "shell.execute_reply.started": "2022-01-02T18:09:30.848610Z"
    }
   },
   "outputs": [],
   "source": [
    "import torch \n",
    "import torch.nn as nn\n",
    "import torch.optim as optim\n",
    "import torchvision\n",
    "import torchvision.datasets as datasets\n",
    "import torchvision.transforms as  transforms\n",
    "from torch.utils.data import DataLoader\n",
    "from torch.utils.tensorboard import SummaryWriter\n",
    "import matplotlib.pyplot as plt\n",
    "%matplotlib inline\n",
    "import matplotlib.animation as animation\n",
    "from IPython.display import HTML"
   ]
  },
  {
   "cell_type": "code",
   "execution_count": 5,
   "metadata": {
    "execution": {
     "iopub.execute_input": "2022-01-02T18:09:34.384767Z",
     "iopub.status.busy": "2022-01-02T18:09:34.384080Z",
     "iopub.status.idle": "2022-01-02T18:09:34.434288Z",
     "shell.execute_reply": "2022-01-02T18:09:34.433544Z",
     "shell.execute_reply.started": "2022-01-02T18:09:34.384727Z"
    }
   },
   "outputs": [],
   "source": [
    "# Setting up device\n",
    "device = torch.device('cuda' if torch.cuda.is_available() else 'cpu')"
   ]
  },
  {
   "cell_type": "code",
   "execution_count": 13,
   "metadata": {
    "execution": {
     "iopub.execute_input": "2022-01-02T18:25:35.017135Z",
     "iopub.status.busy": "2022-01-02T18:25:35.016885Z",
     "iopub.status.idle": "2022-01-02T18:25:35.023328Z",
     "shell.execute_reply": "2022-01-02T18:25:35.022385Z",
     "shell.execute_reply.started": "2022-01-02T18:25:35.017106Z"
    }
   },
   "outputs": [],
   "source": [
    "# Setting Hyperparameters\n",
    "learning_rate = 5e-5\n",
    "batch_size = 128\n",
    "image_size = 64\n",
    "channel_img = 3\n",
    "z_dim = 100\n",
    "num_epochs = 5\n",
    "feature_d = 64\n",
    "feature_g = 64\n",
    "critic_iterations = 5\n",
    "lambda_GP = 10\n",
    "\n",
    "variable = transforms.Compose(\n",
    "    [\n",
    "        transforms.Resize((image_size,image_size)),\n",
    "        transforms.ToTensor(),\n",
    "        transforms.Normalize(\n",
    "        [0.5 for _ in range(channel_img)], [0.5 for _ in range(channel_img)]),\n",
    "    ]\n",
    ")"
   ]
  },
  {
   "cell_type": "code",
   "execution_count": 14,
   "metadata": {
    "execution": {
     "iopub.execute_input": "2022-01-02T18:25:38.203146Z",
     "iopub.status.busy": "2022-01-02T18:25:38.202885Z",
     "iopub.status.idle": "2022-01-02T18:26:38.550944Z",
     "shell.execute_reply": "2022-01-02T18:26:38.550264Z",
     "shell.execute_reply.started": "2022-01-02T18:25:38.203114Z"
    }
   },
   "outputs": [],
   "source": [
    "# Loading Dataset \n",
    "dataset = datasets.ImageFolder(root = File_location, transform = variable)\n",
    "loader = DataLoader(dataset, batch_size = batch_size, shuffle= True, drop_last=True)"
   ]
  },
  {
   "cell_type": "code",
   "execution_count": 16,
   "metadata": {
    "execution": {
     "iopub.execute_input": "2022-01-02T18:27:52.794140Z",
     "iopub.status.busy": "2022-01-02T18:27:52.793876Z",
     "iopub.status.idle": "2022-01-02T18:27:52.803059Z",
     "shell.execute_reply": "2022-01-02T18:27:52.799383Z",
     "shell.execute_reply.started": "2022-01-02T18:27:52.794110Z"
    }
   },
   "outputs": [],
   "source": [
    "print(len(dataset))\n",
    "print(type(dataset))\n"
   ]
  },
  {
   "cell_type": "code",
   "execution_count": 17,
   "metadata": {
    "execution": {
     "iopub.execute_input": "2022-01-02T18:28:02.109977Z",
     "iopub.status.busy": "2022-01-02T18:28:02.109711Z",
     "iopub.status.idle": "2022-01-02T18:28:02.986210Z",
     "shell.execute_reply": "2022-01-02T18:28:02.984767Z",
     "shell.execute_reply.started": "2022-01-02T18:28:02.109945Z"
    }
   },
   "outputs": [],
   "source": [
    "# Checking the loaded data\n",
    "print(len(loader))\n",
    "examples = iter(loader)\n",
    "samples, _ = examples.next()\n",
    "print(samples.shape)"
   ]
  },
  {
   "cell_type": "code",
   "execution_count": 18,
   "metadata": {
    "execution": {
     "iopub.execute_input": "2022-01-02T18:28:07.749078Z",
     "iopub.status.busy": "2022-01-02T18:28:07.748529Z",
     "iopub.status.idle": "2022-01-02T18:28:07.754353Z",
     "shell.execute_reply": "2022-01-02T18:28:07.751876Z",
     "shell.execute_reply.started": "2022-01-02T18:28:07.749036Z"
    }
   },
   "outputs": [],
   "source": [
    "import numpy as np\n",
    "import pandas as pd"
   ]
  },
  {
   "cell_type": "code",
   "execution_count": 19,
   "metadata": {
    "execution": {
     "iopub.execute_input": "2022-01-02T18:28:09.986407Z",
     "iopub.status.busy": "2022-01-02T18:28:09.985462Z",
     "iopub.status.idle": "2022-01-02T18:28:13.938595Z",
     "shell.execute_reply": "2022-01-02T18:28:13.936968Z",
     "shell.execute_reply.started": "2022-01-02T18:28:09.986364Z"
    }
   },
   "outputs": [],
   "source": [
    "# Visualizing the dataset images\n",
    "real_batch = next(iter(loader))\n",
    "plt.figure(figsize=(8,8))\n",
    "plt.axis(\"off\")\n",
    "plt.title(\"Training Images\")\n",
    "plt.imshow(np.transpose(torchvision.utils.make_grid(real_batch[0].to(device)[:64], padding=2, normalize=True).cpu(),(1,2,0)))"
   ]
  },
  {
   "cell_type": "code",
   "execution_count": 20,
   "metadata": {
    "execution": {
     "iopub.execute_input": "2022-01-02T18:28:18.843088Z",
     "iopub.status.busy": "2022-01-02T18:28:18.842828Z",
     "iopub.status.idle": "2022-01-02T18:28:18.853693Z",
     "shell.execute_reply": "2022-01-02T18:28:18.852989Z",
     "shell.execute_reply.started": "2022-01-02T18:28:18.843056Z"
    }
   },
   "outputs": [],
   "source": [
    "# Creating Critic Class\n",
    "class Critic(nn.Module):\n",
    "    def __init__(self, channel_img, feature_d):\n",
    "        super().__init__()\n",
    "        self.disc = nn.Sequential(\n",
    "            nn.Conv2d(channel_img, feature_d, kernel_size=4, stride=2, padding=1),\n",
    "            nn.LeakyReLU(0.2),\n",
    "            self._block(feature_d, feature_d*2, 4, 2, 1),\n",
    "            self._block(feature_d*2, feature_d*4, 4, 2, 1),\n",
    "            self._block(feature_d*4, feature_d*8, 4, 2, 1),\n",
    "            nn.Conv2d(feature_d*8, 1, 4, 2, 0),\n",
    "        )\n",
    "       \n",
    "    def _block(self, in_channels, out_channels, kernel_size, stride, padding):\n",
    "        return nn.Sequential(\n",
    "            nn.Conv2d(in_channels, out_channels, kernel_size, stride, padding, bias=False),\n",
    "            nn.InstanceNorm2d(out_channels, affine = True),\n",
    "            nn.LeakyReLU(0.2),\n",
    "        )\n",
    "    \n",
    "    def forward(self, x):\n",
    "        return self.disc(x)"
   ]
  },
  {
   "cell_type": "code",
   "execution_count": 21,
   "metadata": {
    "execution": {
     "iopub.execute_input": "2022-01-02T18:28:26.136143Z",
     "iopub.status.busy": "2022-01-02T18:28:26.135564Z",
     "iopub.status.idle": "2022-01-02T18:28:26.144844Z",
     "shell.execute_reply": "2022-01-02T18:28:26.143838Z",
     "shell.execute_reply.started": "2022-01-02T18:28:26.136102Z"
    }
   },
   "outputs": [],
   "source": [
    "# Creating Generator Class\n",
    "class Generator(nn.Module):\n",
    "    def __init__(self, z_dim, channel_img, feature_g):\n",
    "        super().__init__()\n",
    "        self.gen = nn.Sequential(\n",
    "            self._block(z_dim, feature_g*16, 4, 2, 0),\n",
    "            self._block(feature_g*16, feature_g*8, 4, 2, 1),\n",
    "            self._block(feature_g*8, feature_g*4, 4, 2, 1),\n",
    "            self._block(feature_g*4, feature_g*2, 4, 2, 1),\n",
    "            nn.ConvTranspose2d(feature_g*2, channel_img,4, 2, 1),\n",
    "            nn.Tanh(),\n",
    "        )\n",
    "        \n",
    "    def _block(self, in_channels, out_channels, kernel_size, stride, padding):\n",
    "        return nn.Sequential(\n",
    "            nn.ConvTranspose2d(in_channels, out_channels, kernel_size, stride, padding),\n",
    "            nn.BatchNorm2d(out_channels),\n",
    "            nn.ReLU(),\n",
    "        )\n",
    "    \n",
    "    def forward(self, x):\n",
    "        return self.gen(x)"
   ]
  },
  {
   "cell_type": "code",
   "execution_count": 22,
   "metadata": {
    "execution": {
     "iopub.execute_input": "2022-01-02T18:28:29.731085Z",
     "iopub.status.busy": "2022-01-02T18:28:29.730834Z",
     "iopub.status.idle": "2022-01-02T18:28:29.736532Z",
     "shell.execute_reply": "2022-01-02T18:28:29.735851Z",
     "shell.execute_reply.started": "2022-01-02T18:28:29.731055Z"
    }
   },
   "outputs": [],
   "source": [
    "# Function to initialize the model weights\n",
    "def initialize_weights(model):\n",
    "    for m in model.modules():\n",
    "        if isinstance(m, nn.Conv2d):\n",
    "            nn.init.normal_(m.weight.data, 0.0, 0.02)    # mean = 0, variance = 0.02\n",
    "        if isinstance(m, nn.ConvTranspose2d):\n",
    "            nn.init.normal_(m.weight.data, 0.0, 0.02)\n",
    "        if isinstance(m, nn.BatchNorm2d):\n",
    "            nn.init.normal_(m.weight.data, 0.0,0.02)"
   ]
  },
  {
   "cell_type": "code",
   "execution_count": 23,
   "metadata": {
    "execution": {
     "iopub.execute_input": "2022-01-02T18:28:32.061356Z",
     "iopub.status.busy": "2022-01-02T18:28:32.060738Z",
     "iopub.status.idle": "2022-01-02T18:28:32.068281Z",
     "shell.execute_reply": "2022-01-02T18:28:32.067317Z",
     "shell.execute_reply.started": "2022-01-02T18:28:32.061319Z"
    }
   },
   "outputs": [],
   "source": [
    "def gradient_penalty(critic, real, fake, device = 'cpu'):\n",
    "    batch_size, C, H, W = real.shape\n",
    "    epsilon = torch.rand(batch_size,1,1,1).repeat(1,C,H,W).to(device)\n",
    "    interpolated_images = real*epsilon + fake*(1-epsilon)\n",
    "    \n",
    "    # Calculate critic scores\n",
    "    mixed_scores = critic(interpolated_images)\n",
    "    \n",
    "    gradient = torch.autograd.grad(\n",
    "        inputs = interpolated_images,\n",
    "        outputs = mixed_scores,\n",
    "        grad_outputs = torch.ones_like(mixed_scores),\n",
    "        create_graph = True,\n",
    "        retain_graph = True,\n",
    "    )[0]\n",
    "    \n",
    "    gradient = gradient.view(gradient.shape[0], -1)\n",
    "    gradient_norm = gradient.norm(2, dim = 1)\n",
    "    gradient_penalty = torch.mean((gradient_norm - 1)**2)\n",
    "    return gradient_penalty"
   ]
  },
  {
   "cell_type": "code",
   "execution_count": 24,
   "metadata": {
    "execution": {
     "iopub.execute_input": "2022-01-02T18:28:36.756766Z",
     "iopub.status.busy": "2022-01-02T18:28:36.756505Z",
     "iopub.status.idle": "2022-01-02T18:28:36.907529Z",
     "shell.execute_reply": "2022-01-02T18:28:36.906751Z",
     "shell.execute_reply.started": "2022-01-02T18:28:36.756735Z"
    }
   },
   "outputs": [],
   "source": [
    "# Creating model objects\n",
    "critic = Critic(channel_img, feature_d).to(device)\n",
    "gen = Generator(z_dim, channel_img, feature_g).to(device)\n",
    "initialize_weights(critic)\n",
    "initialize_weights(gen)"
   ]
  },
  {
   "cell_type": "code",
   "execution_count": 25,
   "metadata": {
    "execution": {
     "iopub.execute_input": "2022-01-02T18:28:39.160761Z",
     "iopub.status.busy": "2022-01-02T18:28:39.160070Z",
     "iopub.status.idle": "2022-01-02T18:28:39.170035Z",
     "shell.execute_reply": "2022-01-02T18:28:39.169223Z",
     "shell.execute_reply.started": "2022-01-02T18:28:39.160719Z"
    }
   },
   "outputs": [],
   "source": [
    "# Defining optimizer and loss functions\n",
    "opt_critic = optim.Adam(critic.parameters(), lr = learning_rate, betas=(0.0, 0.9))\n",
    "opt_gen = optim.Adam(gen.parameters(), lr= learning_rate, betas=(0.0,0.9))\n"
   ]
  },
  {
   "cell_type": "code",
   "execution_count": 26,
   "metadata": {
    "execution": {
     "iopub.execute_input": "2022-01-02T18:28:41.582008Z",
     "iopub.status.busy": "2022-01-02T18:28:41.581732Z",
     "iopub.status.idle": "2022-01-02T18:28:41.586907Z",
     "shell.execute_reply": "2022-01-02T18:28:41.585966Z",
     "shell.execute_reply.started": "2022-01-02T18:28:41.581977Z"
    }
   },
   "outputs": [],
   "source": [
    "# Creating object to write the images data on the tensorboard\n",
    "fixed_noise = torch.randn(32, z_dim, 1, 1).to(device)\n",
    "# writer_real = SummaryWriter(f'logsFlap/real')\n",
    "# writer_fake = SummaryWriter(f'logsFlap/fake')\n",
    "# step = 0"
   ]
  },
  {
   "cell_type": "code",
   "execution_count": 27,
   "metadata": {
    "execution": {
     "iopub.execute_input": "2022-01-02T18:28:43.840352Z",
     "iopub.status.busy": "2022-01-02T18:28:43.840025Z",
     "iopub.status.idle": "2022-01-02T18:28:43.852217Z",
     "shell.execute_reply": "2022-01-02T18:28:43.851525Z",
     "shell.execute_reply.started": "2022-01-02T18:28:43.840314Z"
    }
   },
   "outputs": [],
   "source": [
    "# telling the model that the data is for training\n",
    "gen.train()"
   ]
  },
  {
   "cell_type": "code",
   "execution_count": 28,
   "metadata": {
    "execution": {
     "iopub.execute_input": "2022-01-02T18:28:46.077943Z",
     "iopub.status.busy": "2022-01-02T18:28:46.077665Z",
     "iopub.status.idle": "2022-01-02T18:28:46.083656Z",
     "shell.execute_reply": "2022-01-02T18:28:46.083018Z",
     "shell.execute_reply.started": "2022-01-02T18:28:46.077911Z"
    }
   },
   "outputs": [],
   "source": [
    "critic.train()"
   ]
  },
  {
   "cell_type": "code",
   "execution_count": 29,
   "metadata": {
    "execution": {
     "iopub.execute_input": "2022-01-02T18:28:51.690549Z",
     "iopub.status.busy": "2022-01-02T18:28:51.689986Z",
     "iopub.status.idle": "2022-01-02T21:08:22.993531Z",
     "shell.execute_reply": "2022-01-02T21:08:22.992483Z",
     "shell.execute_reply.started": "2022-01-02T18:28:51.690509Z"
    }
   },
   "outputs": [],
   "source": [
    "# Traning Loop\n",
    "img_list = []\n",
    "step = 0\n",
    "\n",
    "for epoch in range(num_epochs):\n",
    "    for batch_idx, (real, _) in enumerate(loader):\n",
    "        real = real.to(device)\n",
    "\n",
    "        \n",
    "        for _ in range(critic_iterations):\n",
    "            noise = torch.randn(batch_size, z_dim, 1, 1).to(device)\n",
    "            fake = gen(noise)                                                 # G(z)\n",
    "            critic_real = critic(real).reshape(-1)\n",
    "            critic_fake = critic(fake).reshape(-1)\n",
    "            gp = gradient_penalty(critic, real, fake, device = device)\n",
    "            loss_critic = -(torch.mean(critic_real) - torch.mean(critic_fake)) + lambda_GP*gp\n",
    "            critic.zero_grad()\n",
    "            loss_critic.backward(retain_graph = True)\n",
    "            opt_critic.step()\n",
    "            \n",
    "        # Training Generator : -min E(critic(fgen_fake))\n",
    "        output = critic(fake).reshape(-1)\n",
    "        loss_gen = -torch.mean(output)\n",
    "        gen.zero_grad()\n",
    "        loss_gen.backward()\n",
    "        opt_gen.step()\n",
    "        \n",
    "        \n",
    "        # Printing\n",
    "        if batch_idx % 100 ==0:\n",
    "            print(f\"Epoch [{epoch+1}/{num_epochs}] Batch : {batch_idx}/{len(loader)} \\\n",
    "            LossD: {loss_critic:.4f}, LossG: {loss_gen:.4f}\"\n",
    "                 )\n",
    "        \n",
    "        if (step % 500 == 0) or ((epoch == num_epochs-1) and (i == len(loader)-1)):\n",
    "            with torch.no_grad():\n",
    "                fake = gen(fixed_noise).detach().cpu()\n",
    "            img_list.append(torchvision.utils.make_grid(fake, padding=2, normalize=True))\n",
    "\n",
    "        step += 1"
   ]
  },
  {
   "cell_type": "code",
   "execution_count": 30,
   "metadata": {
    "execution": {
     "iopub.execute_input": "2022-01-02T21:08:31.650964Z",
     "iopub.status.busy": "2022-01-02T21:08:31.650304Z",
     "iopub.status.idle": "2022-01-02T21:08:33.411549Z",
     "shell.execute_reply": "2022-01-02T21:08:33.410778Z",
     "shell.execute_reply.started": "2022-01-02T21:08:31.650927Z"
    }
   },
   "outputs": [],
   "source": [
    "fig = plt.figure(figsize=(8,8))\n",
    "plt.axis(\"off\")\n",
    "ims = [[plt.imshow(np.transpose(i,(1,2,0)), animated=True)] for i in img_list]\n",
    "ani = animation.ArtistAnimation(fig, ims, interval=1000, repeat_delay=1000, blit=True)\n",
    "\n",
    "HTML(ani.to_jshtml())"
   ]
  },
  {
   "cell_type": "code",
   "execution_count": 31,
   "metadata": {
    "execution": {
     "iopub.execute_input": "2022-01-02T21:10:04.493192Z",
     "iopub.status.busy": "2022-01-02T21:10:04.492941Z",
     "iopub.status.idle": "2022-01-02T21:10:04.749732Z",
     "shell.execute_reply": "2022-01-02T21:10:04.748930Z",
     "shell.execute_reply.started": "2022-01-02T21:10:04.493161Z"
    }
   },
   "outputs": [],
   "source": [
    "# Print model's state_dict\n",
    "print(\"Model's state_dict:\")\n",
    "for param_tensor in critic.state_dict():\n",
    "    print(param_tensor, \"\\t\", critic.state_dict()[param_tensor].size())\n",
    "\n",
    "# Print optimizer's state_dict\n",
    "print(\"Optimizer's state_dict:\")\n",
    "for var_name in opt_critic.state_dict():\n",
    "    print(var_name, \"\\t\", opt_critic.state_dict()[var_name])\n",
    "    \n",
    "#torch.save(critic.state_dict(), PATH)"
   ]
  },
  {
   "cell_type": "code",
   "execution_count": null,
   "metadata": {},
   "outputs": [],
   "source": []
  }
 ],
 "metadata": {
  "kernelspec": {
   "display_name": "Python 3 (ipykernel)",
   "language": "python",
   "name": "python3"
  },
  "language_info": {
   "codemirror_mode": {
    "name": "ipython",
    "version": 3
   },
   "file_extension": ".py",
   "mimetype": "text/x-python",
   "name": "python",
   "nbconvert_exporter": "python",
   "pygments_lexer": "ipython3",
   "version": "3.9.7"
  }
 },
 "nbformat": 4,
 "nbformat_minor": 4
}
